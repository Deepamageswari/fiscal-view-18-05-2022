{
 "cells": [
  {
   "cell_type": "code",
   "execution_count": null,
   "metadata": {},
   "outputs": [],
   "source": [
    "# create file only if it does not exists\n",
    "# otherwise append text to the file"
   ]
  },
  {
   "cell_type": "code",
   "execution_count": 185,
   "metadata": {},
   "outputs": [],
   "source": [
    "file=open(r'C:\\Users\\ELCOT\\OneDrive\\Desktop\\apple.txt','r')\n"
   ]
  },
  {
   "cell_type": "code",
   "execution_count": 182,
   "metadata": {},
   "outputs": [],
   "source": [
    "#then read the file - in the form of string\n",
    "d=file.read()"
   ]
  },
  {
   "cell_type": "code",
   "execution_count": 183,
   "metadata": {},
   "outputs": [
    {
     "name": "stdout",
     "output_type": "stream",
     "text": [
      "where are you fromapple\n",
      "mango\n",
      "orange\n",
      "pineapple\n",
      "apple\n",
      "orange\n",
      "mango\n",
      "\n"
     ]
    }
   ],
   "source": [
    "print(d)"
   ]
  },
  {
   "cell_type": "code",
   "execution_count": 123,
   "metadata": {
    "scrolled": true
   },
   "outputs": [
    {
     "name": "stdout",
     "output_type": "stream",
     "text": [
      "enterapple\n",
      "enterorange\n",
      "entermango\n",
      "enterquit\n"
     ]
    }
   ],
   "source": [
    "#keep inputting text till the user types QUIT to stop\n",
    "\n",
    "while True:\n",
    "    string=str(input(\"enter\"))\n",
    "    if string=='quit':\n",
    "        break\n",
    "    file.write(string)\n",
    "    file.write('\\n')\n",
    "    "
   ]
  },
  {
   "cell_type": "code",
   "execution_count": null,
   "metadata": {},
   "outputs": [],
   "source": [
    "'''find how many times (say) word success appears in the file\n",
    "display the FIRST and the LAST line from the file'''"
   ]
  },
  {
   "cell_type": "code",
   "execution_count": 186,
   "metadata": {},
   "outputs": [
    {
     "data": {
      "text/plain": [
       "'where are you fromapple\\n'"
      ]
     },
     "execution_count": 186,
     "metadata": {},
     "output_type": "execute_result"
    }
   ],
   "source": [
    "file.readline()"
   ]
  },
  {
   "cell_type": "code",
   "execution_count": 187,
   "metadata": {},
   "outputs": [
    {
     "name": "stdout",
     "output_type": "stream",
     "text": [
      "mango\n",
      "\n"
     ]
    }
   ],
   "source": [
    "for last_line in file:\n",
    "    break\n",
    "print(last_line)"
   ]
  },
  {
   "cell_type": "code",
   "execution_count": null,
   "metadata": {},
   "outputs": [],
   "source": [
    "'''2) input decimal numbers store in a file called data1.txt\n",
    "when the user types any NEGATIVE number - STOP'''"
   ]
  },
  {
   "cell_type": "code",
   "execution_count": 111,
   "metadata": {
    "scrolled": true
   },
   "outputs": [
    {
     "name": "stdout",
     "output_type": "stream",
     "text": [
      "120.0\n",
      "170.0\n",
      "179.0\n",
      "140.0\n",
      "190.0\n",
      "188.0\n",
      "199.0\n",
      "\n"
     ]
    }
   ],
   "source": [
    "file1=open('data.txt','r')\n",
    "print(file1.read())"
   ]
  },
  {
   "cell_type": "code",
   "execution_count": 29,
   "metadata": {},
   "outputs": [
    {
     "name": "stdout",
     "output_type": "stream",
     "text": [
      "enter a decimal number1.22\n",
      "enter a decimal number-1\n"
     ]
    }
   ],
   "source": [
    "file1=open('data.txt','a')\n",
    "while True:\n",
    "    floating=float(input('enter a decimal number'))\n",
    "    if floating<0:\n",
    "        break\n",
    "    file1.write(str(floating))\n",
    "    file1.write('\\n')\n"
   ]
  },
  {
   "cell_type": "code",
   "execution_count": 93,
   "metadata": {},
   "outputs": [
    {
     "name": "stdout",
     "output_type": "stream",
     "text": [
      "enter a decimal number120\n",
      "enter a decimal number170\n",
      "enter a decimal number179\n",
      "enter a decimal number140\n",
      "enter a decimal number190\n",
      "enter a decimal number188\n",
      "enter a decimal number199\n",
      "enter a decimal number-1\n"
     ]
    }
   ],
   "source": [
    "file1=open('data.txt','w')\n",
    "while True:\n",
    "    floating=float(input('enter a decimal number'))\n",
    "    if floating<0:\n",
    "        break\n",
    "    file1.write(str(floating))\n",
    "    file1.write('\\n')"
   ]
  },
  {
   "cell_type": "code",
   "execution_count": null,
   "metadata": {},
   "outputs": [],
   "source": [
    "#read all the numbers from the file, store it in a set"
   ]
  },
  {
   "cell_type": "code",
   "execution_count": 94,
   "metadata": {},
   "outputs": [
    {
     "name": "stdout",
     "output_type": "stream",
     "text": [
      "['120.0\\n', '170.0\\n', '179.0\\n', '140.0\\n', '190.0\\n', '188.0\\n', '199.0\\n']\n",
      "{'140.0\\n', '179.0\\n', '188.0\\n', '199.0\\n', '170.0\\n', '120.0\\n', '190.0\\n'}\n"
     ]
    }
   ],
   "source": [
    "set1=set()\n",
    "list1=list()\n",
    "file1=open('data.txt','r')\n",
    "for i in file1:\n",
    "    list1.append(i)\n",
    "    set1.add(i)\n",
    "print(list1)\n",
    "print(set1)\n",
    "    "
   ]
  },
  {
   "cell_type": "code",
   "execution_count": 5,
   "metadata": {},
   "outputs": [
    {
     "data": {
      "text/plain": [
       "['1.1\\n', '1.2\\n', '1.3\\n']"
      ]
     },
     "execution_count": 5,
     "metadata": {},
     "output_type": "execute_result"
    }
   ],
   "source": [
    "a=open('data.txt','r')\n",
    "a.readlines()"
   ]
  },
  {
   "cell_type": "code",
   "execution_count": 95,
   "metadata": {},
   "outputs": [
    {
     "name": "stdout",
     "output_type": "stream",
     "text": [
      "0\n",
      "['120.0\\n', '170.0\\n', '179.0\\n', '140.0\\n', '190.0\\n', '188.0\\n', '199.0\\n']\n",
      "[]\n"
     ]
    }
   ],
   "source": [
    "new_list=[]\n",
    "repeat=[]\n",
    "count=0\n",
    "for i in list1:\n",
    "    if i not in new_list:\n",
    "        new_list.append(i)\n",
    "    else:\n",
    "        repeat.append(i)\n",
    "        count+=1\n",
    "print(count)\n",
    "print(new_list)\n",
    "print(repeat)"
   ]
  },
  {
   "cell_type": "code",
   "execution_count": 96,
   "metadata": {},
   "outputs": [
    {
     "name": "stdout",
     "output_type": "stream",
     "text": [
      "['120.0', '170.0', '179.0', '140.0', '190.0', '188.0', '199.0']\n"
     ]
    }
   ],
   "source": [
    "n1=[]\n",
    "for i in list1:\n",
    "    k=i.replace('\\n',\"\")\n",
    "    j=i.strip('\\n')\n",
    "    n1.append(k)\n",
    "print(n1)"
   ]
  },
  {
   "cell_type": "code",
   "execution_count": 104,
   "metadata": {},
   "outputs": [
    {
     "name": "stdout",
     "output_type": "stream",
     "text": [
      "199.0\n",
      "120.0\n",
      "169.42857142857142\n",
      "4\n"
     ]
    }
   ],
   "source": [
    "a=0\n",
    "b=n1[0]\n",
    "c=0\n",
    "count=0\n",
    "for i in n1:\n",
    "    if float(i)>a:\n",
    "        a=float(i)\n",
    "    if i<b:\n",
    "        b=i\n",
    "    c+=float(i)\n",
    "    if float(i)>175 and float(i)<339:\n",
    "        count+=1\n",
    "print(a)\n",
    "print(b)\n",
    "print(c/len(n1))\n",
    "print(count)"
   ]
  },
  {
   "cell_type": "code",
   "execution_count": 113,
   "metadata": {
    "scrolled": true
   },
   "outputs": [
    {
     "name": "stdout",
     "output_type": "stream",
     "text": [
      "120.0\n",
      "170.0\n",
      "179.0\n",
      "140.0\n",
      "190.0\n",
      "188.0\n",
      "199.0\n",
      "\n",
      "800.22\n",
      "100.22\n",
      "190.33\n",
      "78.22\n"
     ]
    }
   ],
   "source": [
    "s1 = {100.22,78.22,190.33,800.22}\n",
    "file11=open('data.txt','a')\n",
    "for i in s1:\n",
    "    file11.write('\\n')\n",
    "    file11.write(str(i))\n",
    "aa=open('data.txt','r')\n",
    "print(aa.read())\n"
   ]
  },
  {
   "cell_type": "code",
   "execution_count": null,
   "metadata": {},
   "outputs": [],
   "source": [
    "''' given a list1 = ['hello1.txt','data1.txt','data2.txt']\n",
    "process the list - they are file name. try to read the contents of the file\n",
    "if those files exists.\n",
    "find out totally how many lines you read from all the 3 files.'''"
   ]
  },
  {
   "cell_type": "code",
   "execution_count": 114,
   "metadata": {},
   "outputs": [],
   "source": [
    "list1 = ['hello1.txt','data1.txt','data2.txt']"
   ]
  },
  {
   "cell_type": "code",
   "execution_count": 122,
   "metadata": {},
   "outputs": [
    {
     "name": "stdout",
     "output_type": "stream",
     "text": [
      "no such file hello1.txt\n",
      "\n",
      "\n",
      "800.22\n",
      "100.22\n",
      "190.33\n",
      "78.22\n",
      "800.22\n",
      "100.22\n",
      "190.33\n",
      "78.22\n",
      "800.22\n",
      "100.22\n",
      "190.33\n",
      "78.22\n",
      "800.22\n",
      "100.22\n",
      "190.33\n",
      "78.22\n",
      "800.22\n",
      "100.22\n",
      "190.33\n",
      "78.22\n",
      "no such file data2.txt\n"
     ]
    }
   ],
   "source": [
    "\n",
    "for i in list1:\n",
    "    try:\n",
    "        a=open(i,'r')\n",
    "        print(a.read())\n",
    "    except:\n",
    "        print('no such file',i)\n",
    "\n",
    "    "
   ]
  },
  {
   "cell_type": "code",
   "execution_count": null,
   "metadata": {},
   "outputs": [],
   "source": []
  }
 ],
 "metadata": {
  "kernelspec": {
   "display_name": "Python 3",
   "language": "python",
   "name": "python3"
  },
  "language_info": {
   "codemirror_mode": {
    "name": "ipython",
    "version": 3
   },
   "file_extension": ".py",
   "mimetype": "text/x-python",
   "name": "python",
   "nbconvert_exporter": "python",
   "pygments_lexer": "ipython3",
   "version": "3.8.5"
  }
 },
 "nbformat": 4,
 "nbformat_minor": 4
}
